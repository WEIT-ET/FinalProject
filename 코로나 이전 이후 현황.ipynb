{
 "cells": [
  {
   "cell_type": "code",
   "execution_count": 186,
   "id": "c54594cb",
   "metadata": {},
   "outputs": [],
   "source": [
    "import pandas as pd\n",
    "import numpy as np\n",
    "import seaborn as sns\n",
    "import os"
   ]
  },
  {
   "cell_type": "code",
   "execution_count": 187,
   "id": "9d896dd6",
   "metadata": {},
   "outputs": [
    {
     "name": "stdout",
     "output_type": "stream",
     "text": [
      "      ANALS_TRGET_YEAR  ANALS_TRGET_MT ONE_AREA_NM TWO_AREA_NM  ALL_BOOK_CO  \\\n",
      "0                 2018               1         강원도         강릉시       412082   \n",
      "1                 2018               1         강원도         동해시       301625   \n",
      "2                 2018               1         강원도         삼척시       280583   \n",
      "3                 2018               1         강원도         속초시       460050   \n",
      "4                 2018               1         강원도         양구군       147476   \n",
      "...                ...             ...         ...         ...          ...   \n",
      "9852              2021              11        충청북도     청주시 상당구       569170   \n",
      "9853              2021              11        충청북도     청주시 서원구       770079   \n",
      "9854              2021              11        충청북도     청주시 청원구       419113   \n",
      "9855              2021              11        충청북도     청주시 흥덕구       546734   \n",
      "9856              2021              11        충청북도         충주시       261499   \n",
      "\n",
      "      NEW_BOOK_CO   LON_CO  \n",
      "0             153  14100.0  \n",
      "1             648  16911.0  \n",
      "2             343   9707.0  \n",
      "3            1395  18808.0  \n",
      "4             127   5214.0  \n",
      "...           ...      ...  \n",
      "9852          712  27192.0  \n",
      "9853         3023  17305.0  \n",
      "9854          834  40747.0  \n",
      "9855         1373  42445.0  \n",
      "9856          289   7297.0  \n",
      "\n",
      "[9857 rows x 7 columns]\n"
     ]
    }
   ],
   "source": [
    "# 파일 경로 설정\n",
    "file_paths = ['2018_01-2021_04.csv','2021-05.csv','2021-06.csv','2021-07.csv','2021-08.csv','2021-09.csv','2021-10.csv','2021-11.csv']\n",
    "\n",
    "# 파일들을 읽어들여 데이터프레임으로 변환하여 리스트에 저장\n",
    "df_list = []\n",
    "for file_path in file_paths:\n",
    "    df = pd.read_csv(file_path)\n",
    "    df_list.append(df)\n",
    "\n",
    "# 모든 데이터프레임을 하나로 합치기\n",
    "train_df = pd.concat(df_list, ignore_index=True)\n",
    "\n",
    "# 결과 확인\n",
    "print(train_df)"
   ]
  },
  {
   "cell_type": "code",
   "execution_count": 160,
   "id": "697768e8",
   "metadata": {},
   "outputs": [
    {
     "name": "stdout",
     "output_type": "stream",
     "text": [
      "<class 'pandas.core.frame.DataFrame'>\n",
      "RangeIndex: 9857 entries, 0 to 9856\n",
      "Data columns (total 7 columns):\n",
      " #   Column            Non-Null Count  Dtype  \n",
      "---  ------            --------------  -----  \n",
      " 0   ANALS_TRGET_YEAR  9857 non-null   int64  \n",
      " 1   ANALS_TRGET_MT    9857 non-null   int64  \n",
      " 2   ONE_AREA_NM       9857 non-null   object \n",
      " 3   TWO_AREA_NM       9857 non-null   object \n",
      " 4   ALL_BOOK_CO       9857 non-null   int64  \n",
      " 5   NEW_BOOK_CO       9857 non-null   int64  \n",
      " 6   LON_CO            9654 non-null   float64\n",
      "dtypes: float64(1), int64(4), object(2)\n",
      "memory usage: 539.2+ KB\n"
     ]
    }
   ],
   "source": [
    "train_df.info()"
   ]
  },
  {
   "cell_type": "code",
   "execution_count": 188,
   "id": "614122a6",
   "metadata": {},
   "outputs": [],
   "source": [
    "train_df.drop(['ONE_AREA_NM','TWO_AREA_NM'],axis=1,inplace=True)"
   ]
  },
  {
   "cell_type": "code",
   "execution_count": 228,
   "id": "f4aa2264",
   "metadata": {},
   "outputs": [
    {
     "data": {
      "text/html": [
       "<div>\n",
       "<style scoped>\n",
       "    .dataframe tbody tr th:only-of-type {\n",
       "        vertical-align: middle;\n",
       "    }\n",
       "\n",
       "    .dataframe tbody tr th {\n",
       "        vertical-align: top;\n",
       "    }\n",
       "\n",
       "    .dataframe thead th {\n",
       "        text-align: right;\n",
       "    }\n",
       "</style>\n",
       "<table border=\"1\" class=\"dataframe\">\n",
       "  <thead>\n",
       "    <tr style=\"text-align: right;\">\n",
       "      <th></th>\n",
       "      <th>ANALS_TRGET_YEAR</th>\n",
       "      <th>ANALS_TRGET_MT</th>\n",
       "      <th>ALL_BOOK_CO</th>\n",
       "      <th>NEW_BOOK_CO</th>\n",
       "      <th>LON_CO</th>\n",
       "    </tr>\n",
       "  </thead>\n",
       "  <tbody>\n",
       "    <tr>\n",
       "      <th>0</th>\n",
       "      <td>2018</td>\n",
       "      <td>1</td>\n",
       "      <td>412082</td>\n",
       "      <td>153</td>\n",
       "      <td>14100</td>\n",
       "    </tr>\n",
       "    <tr>\n",
       "      <th>1</th>\n",
       "      <td>2018</td>\n",
       "      <td>1</td>\n",
       "      <td>301625</td>\n",
       "      <td>648</td>\n",
       "      <td>16911</td>\n",
       "    </tr>\n",
       "    <tr>\n",
       "      <th>2</th>\n",
       "      <td>2018</td>\n",
       "      <td>1</td>\n",
       "      <td>280583</td>\n",
       "      <td>343</td>\n",
       "      <td>9707</td>\n",
       "    </tr>\n",
       "    <tr>\n",
       "      <th>3</th>\n",
       "      <td>2018</td>\n",
       "      <td>1</td>\n",
       "      <td>460050</td>\n",
       "      <td>1395</td>\n",
       "      <td>18808</td>\n",
       "    </tr>\n",
       "    <tr>\n",
       "      <th>4</th>\n",
       "      <td>2018</td>\n",
       "      <td>1</td>\n",
       "      <td>147476</td>\n",
       "      <td>127</td>\n",
       "      <td>5214</td>\n",
       "    </tr>\n",
       "  </tbody>\n",
       "</table>\n",
       "</div>"
      ],
      "text/plain": [
       "   ANALS_TRGET_YEAR  ANALS_TRGET_MT  ALL_BOOK_CO  NEW_BOOK_CO  LON_CO\n",
       "0              2018               1       412082          153   14100\n",
       "1              2018               1       301625          648   16911\n",
       "2              2018               1       280583          343    9707\n",
       "3              2018               1       460050         1395   18808\n",
       "4              2018               1       147476          127    5214"
      ]
     },
     "execution_count": 228,
     "metadata": {},
     "output_type": "execute_result"
    }
   ],
   "source": [
    "train_df.head(5)"
   ]
  },
  {
   "cell_type": "markdown",
   "id": "f106c9f1",
   "metadata": {},
   "source": [
    "## LON_CO의 NULL 값 치환"
   ]
  },
  {
   "cell_type": "code",
   "execution_count": 190,
   "id": "2745ec55",
   "metadata": {
    "scrolled": true
   },
   "outputs": [
    {
     "data": {
      "text/plain": [
       "203"
      ]
     },
     "execution_count": 190,
     "metadata": {},
     "output_type": "execute_result"
    }
   ],
   "source": [
    "train_df['LON_CO'].isna().sum()"
   ]
  },
  {
   "cell_type": "code",
   "execution_count": 198,
   "id": "5b9abcac",
   "metadata": {},
   "outputs": [
    {
     "data": {
      "text/plain": [
       "0"
      ]
     },
     "execution_count": 198,
     "metadata": {},
     "output_type": "execute_result"
    }
   ],
   "source": [
    "train_df['LON_CO'].apply(lambda x : x == 100).sum()"
   ]
  },
  {
   "cell_type": "code",
   "execution_count": 196,
   "id": "f8fc4dc5",
   "metadata": {},
   "outputs": [],
   "source": [
    "train_df['LON_CO'].fillna(100,inplace=True)"
   ]
  },
  {
   "cell_type": "code",
   "execution_count": 197,
   "id": "fd4abc1f",
   "metadata": {},
   "outputs": [],
   "source": [
    "def null_processing(column):\n",
    "    if column == 100:        \n",
    "        condition_2018 = (train_df['ANALS_TRGET_YEAR'] == 2018) & (train_df['ANALS_TRGET_MT'].isin([1,2,3,4,5,6,7,8,9,10,11,12]))\n",
    "        condition_2019 = (train_df['ANALS_TRGET_YEAR'] == 2019) & (train_df['ANALS_TRGET_MT'].isin([1,2,3,4,5,6,7,8,9,10,11,12]))\n",
    "        condition_2020 = (train_df['ANALS_TRGET_YEAR'] == 2020) & (train_df['ANALS_TRGET_MT'].isin([1,2,3,4,5,6,7,8,9,10,11,12]))\n",
    "        condition_2021 = (train_df['ANALS_TRGET_YEAR'] == 2021) & (train_df['ANALS_TRGET_MT'].isin([1,2,3,4,5,6,7,8,9,10,11,12]))\n",
    "        \n",
    "        if condition_2018.any():\n",
    "            return train_df.loc[condition_2018, column].mean()\n",
    "        elif condition_2019.any():\n",
    "            return train_df.loc[condition_2019, column].mean()\n",
    "        elif condition_2020.any():\n",
    "            return train_df.loc[condition_2020, column].mean()\n",
    "        elif condition_2021.any():\n",
    "            return train_df.loc[condition_2021, column].mean()\n",
    "\n",
    "    return column\n",
    "\n",
    "train_df['LON_CO'] = train_df['LON_CO'].apply(lambda x : null_processing(x))"
   ]
  },
  {
   "cell_type": "code",
   "execution_count": 204,
   "id": "5f9747ad",
   "metadata": {},
   "outputs": [
    {
     "name": "stdout",
     "output_type": "stream",
     "text": [
      "<class 'pandas.core.frame.DataFrame'>\n",
      "RangeIndex: 9857 entries, 0 to 9856\n",
      "Data columns (total 5 columns):\n",
      " #   Column            Non-Null Count  Dtype\n",
      "---  ------            --------------  -----\n",
      " 0   ANALS_TRGET_YEAR  9857 non-null   int64\n",
      " 1   ANALS_TRGET_MT    9857 non-null   int64\n",
      " 2   ALL_BOOK_CO       9857 non-null   int64\n",
      " 3   NEW_BOOK_CO       9857 non-null   int64\n",
      " 4   LON_CO            9857 non-null   int64\n",
      "dtypes: int64(5)\n",
      "memory usage: 385.2 KB\n"
     ]
    }
   ],
   "source": [
    "train_df.info()"
   ]
  },
  {
   "cell_type": "code",
   "execution_count": 203,
   "id": "3cda416a",
   "metadata": {},
   "outputs": [],
   "source": [
    "train_df['LON_CO']=train_df.LON_CO.astype('int64')"
   ]
  },
  {
   "cell_type": "markdown",
   "id": "43715c6d",
   "metadata": {},
   "source": [
    "## LON_CO 시각화 (도서대출권수)"
   ]
  },
  {
   "cell_type": "code",
   "execution_count": 208,
   "id": "e4a6e580",
   "metadata": {},
   "outputs": [
    {
     "data": {
      "text/html": [
       "<div>\n",
       "<style scoped>\n",
       "    .dataframe tbody tr th:only-of-type {\n",
       "        vertical-align: middle;\n",
       "    }\n",
       "\n",
       "    .dataframe tbody tr th {\n",
       "        vertical-align: top;\n",
       "    }\n",
       "\n",
       "    .dataframe thead th {\n",
       "        text-align: right;\n",
       "    }\n",
       "</style>\n",
       "<table border=\"1\" class=\"dataframe\">\n",
       "  <thead>\n",
       "    <tr style=\"text-align: right;\">\n",
       "      <th>ANALS_TRGET_YEAR</th>\n",
       "      <th>2018</th>\n",
       "      <th>2019</th>\n",
       "      <th>2020</th>\n",
       "      <th>2021</th>\n",
       "    </tr>\n",
       "    <tr>\n",
       "      <th>ANALS_TRGET_MT</th>\n",
       "      <th></th>\n",
       "      <th></th>\n",
       "      <th></th>\n",
       "      <th></th>\n",
       "    </tr>\n",
       "  </thead>\n",
       "  <tbody>\n",
       "    <tr>\n",
       "      <th>1</th>\n",
       "      <td>44427.380000</td>\n",
       "      <td>42466.073171</td>\n",
       "      <td>40102.156863</td>\n",
       "      <td>34272.810000</td>\n",
       "    </tr>\n",
       "    <tr>\n",
       "      <th>2</th>\n",
       "      <td>32361.191176</td>\n",
       "      <td>36235.405797</td>\n",
       "      <td>27278.928230</td>\n",
       "      <td>34899.317073</td>\n",
       "    </tr>\n",
       "    <tr>\n",
       "      <th>3</th>\n",
       "      <td>37868.674757</td>\n",
       "      <td>41566.743961</td>\n",
       "      <td>5056.942029</td>\n",
       "      <td>33864.112676</td>\n",
       "    </tr>\n",
       "    <tr>\n",
       "      <th>4</th>\n",
       "      <td>36892.688995</td>\n",
       "      <td>37903.957547</td>\n",
       "      <td>9621.859155</td>\n",
       "      <td>29434.995192</td>\n",
       "    </tr>\n",
       "    <tr>\n",
       "      <th>5</th>\n",
       "      <td>36141.642857</td>\n",
       "      <td>35778.559242</td>\n",
       "      <td>25348.776190</td>\n",
       "      <td>33868.980861</td>\n",
       "    </tr>\n",
       "    <tr>\n",
       "      <th>6</th>\n",
       "      <td>36091.933333</td>\n",
       "      <td>37830.733333</td>\n",
       "      <td>16391.542453</td>\n",
       "      <td>37018.594203</td>\n",
       "    </tr>\n",
       "    <tr>\n",
       "      <th>7</th>\n",
       "      <td>43369.985714</td>\n",
       "      <td>43059.537736</td>\n",
       "      <td>28007.386792</td>\n",
       "      <td>92161.790476</td>\n",
       "    </tr>\n",
       "    <tr>\n",
       "      <th>8</th>\n",
       "      <td>45455.387560</td>\n",
       "      <td>46503.311005</td>\n",
       "      <td>27285.995283</td>\n",
       "      <td>43400.354839</td>\n",
       "    </tr>\n",
       "    <tr>\n",
       "      <th>9</th>\n",
       "      <td>37300.381643</td>\n",
       "      <td>36952.057692</td>\n",
       "      <td>13684.909524</td>\n",
       "      <td>37462.334884</td>\n",
       "    </tr>\n",
       "    <tr>\n",
       "      <th>10</th>\n",
       "      <td>35464.889952</td>\n",
       "      <td>34144.864734</td>\n",
       "      <td>29118.014218</td>\n",
       "      <td>40193.264151</td>\n",
       "    </tr>\n",
       "    <tr>\n",
       "      <th>11</th>\n",
       "      <td>36479.186603</td>\n",
       "      <td>36770.741784</td>\n",
       "      <td>35195.791469</td>\n",
       "      <td>35834.770563</td>\n",
       "    </tr>\n",
       "    <tr>\n",
       "      <th>12</th>\n",
       "      <td>37477.577465</td>\n",
       "      <td>38834.009524</td>\n",
       "      <td>28704.523585</td>\n",
       "      <td>NaN</td>\n",
       "    </tr>\n",
       "  </tbody>\n",
       "</table>\n",
       "</div>"
      ],
      "text/plain": [
       "ANALS_TRGET_YEAR          2018          2019          2020          2021\n",
       "ANALS_TRGET_MT                                                          \n",
       "1                 44427.380000  42466.073171  40102.156863  34272.810000\n",
       "2                 32361.191176  36235.405797  27278.928230  34899.317073\n",
       "3                 37868.674757  41566.743961   5056.942029  33864.112676\n",
       "4                 36892.688995  37903.957547   9621.859155  29434.995192\n",
       "5                 36141.642857  35778.559242  25348.776190  33868.980861\n",
       "6                 36091.933333  37830.733333  16391.542453  37018.594203\n",
       "7                 43369.985714  43059.537736  28007.386792  92161.790476\n",
       "8                 45455.387560  46503.311005  27285.995283  43400.354839\n",
       "9                 37300.381643  36952.057692  13684.909524  37462.334884\n",
       "10                35464.889952  34144.864734  29118.014218  40193.264151\n",
       "11                36479.186603  36770.741784  35195.791469  35834.770563\n",
       "12                37477.577465  38834.009524  28704.523585           NaN"
      ]
     },
     "execution_count": 208,
     "metadata": {},
     "output_type": "execute_result"
    }
   ],
   "source": [
    "LON_CO_pivot = train_df.groupby(['ANALS_TRGET_MT', 'ANALS_TRGET_YEAR'])['LON_CO'].mean().reset_index().pivot(index='ANALS_TRGET_MT', columns='ANALS_TRGET_YEAR', values='LON_CO')\n",
    "LON_CO_pivot"
   ]
  },
  {
   "cell_type": "code",
   "execution_count": 209,
   "id": "3618be72",
   "metadata": {},
   "outputs": [
    {
     "data": {
      "image/png": "[encoded data removed]",
      "text/plain": [
       "<Figure size 640x480 with 2 Axes>"
      ]
     },
     "metadata": {},
     "output_type": "display_data"
    }
   ],
   "source": [
    "sns.heatmap(data=LON_CO_pivot);"
   ]
  },
  {
   "cell_type": "markdown",
   "id": "b26705d7",
   "metadata": {},
   "source": [
    "## \tNEW_BOOK_CO 시각화 (신규도서)"
   ]
  },
  {
   "cell_type": "code",
   "execution_count": 230,
   "id": "125acca1",
   "metadata": {},
   "outputs": [
    {
     "data": {
      "text/html": [
       "<div>\n",
       "<style scoped>\n",
       "    .dataframe tbody tr th:only-of-type {\n",
       "        vertical-align: middle;\n",
       "    }\n",
       "\n",
       "    .dataframe tbody tr th {\n",
       "        vertical-align: top;\n",
       "    }\n",
       "\n",
       "    .dataframe thead th {\n",
       "        text-align: right;\n",
       "    }\n",
       "</style>\n",
       "<table border=\"1\" class=\"dataframe\">\n",
       "  <thead>\n",
       "    <tr style=\"text-align: right;\">\n",
       "      <th>ANALS_TRGET_YEAR</th>\n",
       "      <th>2018</th>\n",
       "      <th>2019</th>\n",
       "      <th>2020</th>\n",
       "      <th>2021</th>\n",
       "    </tr>\n",
       "    <tr>\n",
       "      <th>ANALS_TRGET_MT</th>\n",
       "      <th></th>\n",
       "      <th></th>\n",
       "      <th></th>\n",
       "      <th></th>\n",
       "    </tr>\n",
       "  </thead>\n",
       "  <tbody>\n",
       "    <tr>\n",
       "      <th>1</th>\n",
       "      <td>1808.735000</td>\n",
       "      <td>2125.346341</td>\n",
       "      <td>1800.073529</td>\n",
       "      <td>1153.845000</td>\n",
       "    </tr>\n",
       "    <tr>\n",
       "      <th>2</th>\n",
       "      <td>2594.823529</td>\n",
       "      <td>2183.169082</td>\n",
       "      <td>2266.473684</td>\n",
       "      <td>1693.765854</td>\n",
       "    </tr>\n",
       "    <tr>\n",
       "      <th>3</th>\n",
       "      <td>4316.184466</td>\n",
       "      <td>3035.367150</td>\n",
       "      <td>3848.260870</td>\n",
       "      <td>3002.708920</td>\n",
       "    </tr>\n",
       "    <tr>\n",
       "      <th>4</th>\n",
       "      <td>3169.550239</td>\n",
       "      <td>3360.575472</td>\n",
       "      <td>3291.009390</td>\n",
       "      <td>2835.081731</td>\n",
       "    </tr>\n",
       "    <tr>\n",
       "      <th>5</th>\n",
       "      <td>3190.119048</td>\n",
       "      <td>2991.753555</td>\n",
       "      <td>3359.661905</td>\n",
       "      <td>2532.832536</td>\n",
       "    </tr>\n",
       "    <tr>\n",
       "      <th>6</th>\n",
       "      <td>3394.071429</td>\n",
       "      <td>3392.761905</td>\n",
       "      <td>3952.655660</td>\n",
       "      <td>3439.405797</td>\n",
       "    </tr>\n",
       "    <tr>\n",
       "      <th>7</th>\n",
       "      <td>3017.585714</td>\n",
       "      <td>3252.240566</td>\n",
       "      <td>3146.896226</td>\n",
       "      <td>4751.471429</td>\n",
       "    </tr>\n",
       "    <tr>\n",
       "      <th>8</th>\n",
       "      <td>2573.377990</td>\n",
       "      <td>2622.043062</td>\n",
       "      <td>2139.924528</td>\n",
       "      <td>2236.447005</td>\n",
       "    </tr>\n",
       "    <tr>\n",
       "      <th>9</th>\n",
       "      <td>2412.956522</td>\n",
       "      <td>2304.120192</td>\n",
       "      <td>2667.557143</td>\n",
       "      <td>2008.520930</td>\n",
       "    </tr>\n",
       "    <tr>\n",
       "      <th>10</th>\n",
       "      <td>3191.990431</td>\n",
       "      <td>3112.227053</td>\n",
       "      <td>3265.620853</td>\n",
       "      <td>2379.132075</td>\n",
       "    </tr>\n",
       "    <tr>\n",
       "      <th>11</th>\n",
       "      <td>4084.755981</td>\n",
       "      <td>3457.568075</td>\n",
       "      <td>2741.364929</td>\n",
       "      <td>2488.952381</td>\n",
       "    </tr>\n",
       "    <tr>\n",
       "      <th>12</th>\n",
       "      <td>3438.938967</td>\n",
       "      <td>3675.857143</td>\n",
       "      <td>2759.358491</td>\n",
       "      <td>NaN</td>\n",
       "    </tr>\n",
       "  </tbody>\n",
       "</table>\n",
       "</div>"
      ],
      "text/plain": [
       "ANALS_TRGET_YEAR         2018         2019         2020         2021\n",
       "ANALS_TRGET_MT                                                      \n",
       "1                 1808.735000  2125.346341  1800.073529  1153.845000\n",
       "2                 2594.823529  2183.169082  2266.473684  1693.765854\n",
       "3                 4316.184466  3035.367150  3848.260870  3002.708920\n",
       "4                 3169.550239  3360.575472  3291.009390  2835.081731\n",
       "5                 3190.119048  2991.753555  3359.661905  2532.832536\n",
       "6                 3394.071429  3392.761905  3952.655660  3439.405797\n",
       "7                 3017.585714  3252.240566  3146.896226  4751.471429\n",
       "8                 2573.377990  2622.043062  2139.924528  2236.447005\n",
       "9                 2412.956522  2304.120192  2667.557143  2008.520930\n",
       "10                3191.990431  3112.227053  3265.620853  2379.132075\n",
       "11                4084.755981  3457.568075  2741.364929  2488.952381\n",
       "12                3438.938967  3675.857143  2759.358491          NaN"
      ]
     },
     "execution_count": 230,
     "metadata": {},
     "output_type": "execute_result"
    }
   ],
   "source": [
    "NEW_BOOK_CO_pivot = train_df.groupby(['ANALS_TRGET_MT', 'ANALS_TRGET_YEAR'])['NEW_BOOK_CO'].mean().reset_index().pivot(index='ANALS_TRGET_MT',columns='ANALS_TRGET_YEAR', values='NEW_BOOK_CO')\n",
    "NEW_BOOK_CO_pivot"
   ]
  },
  {
   "cell_type": "code",
   "execution_count": 232,
   "id": "95d6e34f",
   "metadata": {},
   "outputs": [
    {
     "data": {
      "image/png": "[encoded data removed]",
      "text/plain": [
       "<Figure size 640x480 with 2 Axes>"
      ]
     },
     "metadata": {},
     "output_type": "display_data"
    }
   ],
   "source": [
    "sns.heatmap(data=NEW_BOOK_CO_pivot);"
   ]
  },
  {
   "cell_type": "code",
   "execution_count": null,
   "id": "b8ceb980",
   "metadata": {},
   "outputs": [],
   "source": []
  },
  {
   "cell_type": "code",
   "execution_count": null,
   "id": "66217f87",
   "metadata": {},
   "outputs": [],
   "source": []
  },
  {
   "cell_type": "code",
   "execution_count": null,
   "id": "6c62a9ae",
   "metadata": {},
   "outputs": [],
   "source": []
  },
  {
   "cell_type": "code",
   "execution_count": null,
   "id": "aa2c6ce2",
   "metadata": {},
   "outputs": [],
   "source": []
  }
 ],
 "metadata": {
  "kernelspec": {
   "display_name": "Python 3 (ipykernel)",
   "language": "python",
   "name": "python3"
  },
  "language_info": {
   "codemirror_mode": {
    "name": "ipython",
    "version": 3
   },
   "file_extension": ".py",
   "mimetype": "text/x-python",
   "name": "python",
   "nbconvert_exporter": "python",
   "pygments_lexer": "ipython3",
   "version": "3.11.4"
  }
 },
 "nbformat": 4,
 "nbformat_minor": 5
}
