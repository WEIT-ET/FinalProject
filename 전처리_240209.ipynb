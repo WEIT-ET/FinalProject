{
  "nbformat": 4,
  "nbformat_minor": 0,
  "metadata": {
    "colab": {
      "provenance": []
    },
    "kernelspec": {
      "name": "python3",
      "display_name": "Python 3"
    },
    "language_info": {
      "name": "python"
    }
  },
  "cells": [
    {
      "cell_type": "code",
      "execution_count": 56,
      "metadata": {
        "id": "X9LKLIM3msOv"
      },
      "outputs": [],
      "source": [
        "import pandas as pd\n",
        "import numpy as np"
      ]
    },
    {
      "cell_type": "code",
      "source": [
        "!pip install colorama\n",
        "!pip install pydantic-settings\n",
        "!pip install pandas-profiling"
      ],
      "metadata": {
        "id": "rNPLWsPquG_P"
      },
      "execution_count": null,
      "outputs": []
    },
    {
      "cell_type": "code",
      "source": [
        "pip install https://github.com/pandas-profiling/pandas-profiling/archive/master.zip"
      ],
      "metadata": {
        "id": "18Ao-f160mSt"
      },
      "execution_count": null,
      "outputs": []
    },
    {
      "cell_type": "code",
      "source": [
        "from PIL import Image as im\n",
        "from wordcloud import WordCloud,STOPWORDS\n",
        "from IPython.core.display import Image\n",
        "from colorama import Fore, Back, Style\n",
        "from pydantic_settings import BaseSettings\n",
        "from pandas_profiling import ProfileReport\n",
        "y_ = Fore.YELLOW\n",
        "r_ = Fore.RED\n",
        "g_ = Fore.GREEN\n",
        "b_ = Fore.BLUE\n",
        "m_ = Fore.MAGENTA\n",
        "sr_ = Style.RESET_ALL"
      ],
      "metadata": {
        "id": "M9OqCj25ahlr",
        "colab": {
          "base_uri": "https://localhost:8080/"
        },
        "outputId": "faad794b-8985-437d-f027-aa6627838b62"
      },
      "execution_count": null,
      "outputs": [
        {
          "output_type": "stream",
          "name": "stderr",
          "text": [
            "<ipython-input-5-f93c2064a9ef>:6: DeprecationWarning: `import pandas_profiling` is going to be deprecated by April 1st. Please use `import ydata_profiling` instead.\n",
            "  from pandas_profiling import ProfileReport\n"
          ]
        }
      ]
    },
    {
      "cell_type": "code",
      "source": [
        "import pandas_profiling\n",
        "import seaborn as sns\n",
        "import matplotlib.pyplot as plt\n",
        "import requests\n",
        "custom_colors = ['#48bfe3','#56cfe1','#64dfdf','#72efdd','#80ffdb']\n",
        "customPalette = sns.color_palette(custom_colors)\n",
        "#sns.palplot(sns.color_palette(custom_colors),size=1)\n",
        "\n",
        "sns.set_context(\"poster\")"
      ],
      "metadata": {
        "id": "wepyK67yv2N4"
      },
      "execution_count": null,
      "outputs": []
    },
    {
      "cell_type": "code",
      "source": [
        "raw = pd.read_csv(\"/content/train.csv\")"
      ],
      "metadata": {
        "id": "DPi4Whvr7-mQ"
      },
      "execution_count": null,
      "outputs": []
    },
    {
      "cell_type": "code",
      "source": [
        " profile = pandas_profiling.ProfileReport(df)\n",
        " profile.to_file(output_file = 'EDA.html' )"
      ],
      "metadata": {
        "id": "ITpiD9_q2Ixp"
      },
      "execution_count": null,
      "outputs": []
    },
    {
      "cell_type": "markdown",
      "source": [
        "# 전처리 부분"
      ],
      "metadata": {
        "id": "tcEB9p5geTje"
      }
    },
    {
      "cell_type": "markdown",
      "source": [
        "## cleansing"
      ],
      "metadata": {
        "id": "RtPn7n3XfftF"
      }
    },
    {
      "cell_type": "code",
      "source": [
        "from sklearn.preprocessing import LabelEncoder\n",
        "import re\n",
        "pattern = r'[^\\w\\s\\d]'\n",
        "\n",
        "def FE(x):\n",
        "    # 저자, 출판사 특수문자, 공백 제거\n",
        "    x['Book-Author'] = x['Book-Author'].astype(str)\n",
        "    x['Publisher'] = x['Publisher'].astype(str)\n",
        "    x['Book-Author'] = x['Book-Author'].apply(lambda x: re.sub(pattern, '', x))\n",
        "    x['Publisher'] = x['Publisher'].apply(lambda x: re.sub(pattern, '', x))\n",
        "    x['Book-Author'] = x['Book-Author'].replace('\\s+', ' ', regex=True)\n",
        "    x['Publisher'] = x['Publisher'].replace('\\s+', ' ', regex=True)\n",
        "    x['Book-Author'] = x['Book-Author'].str.replace(' ', '')\n",
        "    x['Publisher'] = x['Publisher'].str.replace(' ', '')\n",
        "    x['Book-Author'] = x['Book-Author'].str.lower()\n",
        "    x['Publisher'] = x['Publisher'].str.lower()\n",
        "\n",
        "    # 책 타이틀도 공백제거, 문자열만 남기기.\n",
        "    x['Book-Title'] = x['Book-Title'].apply(lambda x: re.sub(pattern, '', x))\n",
        "    x['Book-Title'] = x['Book-Title'].replace('\\s+', ' ', regex=True)\n",
        "    x['Book-Title'] = x['Book-Title'].apply(lambda x:x.strip())\n",
        "    x['Book-Title'] = x['Book-Title'].str.lower()\n",
        "\n",
        "    x = x.replace({'no': 'n/a'})\n",
        "    return x\n",
        "\n",
        "df = FE(raw)\n"
      ],
      "metadata": {
        "id": "xGiGwEj7eVjV"
      },
      "execution_count": 71,
      "outputs": []
    },
    {
      "cell_type": "markdown",
      "source": [
        "### 작가 처리"
      ],
      "metadata": {
        "id": "TLtyIFvwk05f"
      }
    },
    {
      "cell_type": "code",
      "source": [
        "# 같은 작가나 작가 명 다른 경우 같은 작가로 친다\n",
        "def find_author(author):\n",
        "    if author in ['joannekrowling', 'rowlingjk']:\n",
        "        return 'jkrowling'\n",
        "    if author == 'shakespeare':\n",
        "        return 'williamshakespeare'\n",
        "    return author\n",
        "\n",
        "df['Book-Author'] = df['Book-Author'].apply(find_author)\n"
      ],
      "metadata": {
        "id": "4QgX3kNnjUZ4"
      },
      "execution_count": 72,
      "outputs": []
    },
    {
      "cell_type": "markdown",
      "source": [
        "### 나라 처리"
      ],
      "metadata": {
        "id": "w--0Q-SLlyyt"
      }
    },
    {
      "cell_type": "code",
      "source": [
        "def find_country(country_list:str):\n",
        "    if country_list in ['galiza']:\n",
        "        return 'spain'\n",
        "    elif country_list in ['united sates','maricopa','richmond country','framingham','usa (currently living in england)','saint loius','shelby',\n",
        "                     'los estados unidos de norte america','united states','polk','u.s.a.','morgan','us','ventura county','hernando','kern',\n",
        "                     'onondaga nation','disgruntled states of america','san mateo','united state','aroostook','guam','fort bend',\n",
        "                      'hungary and usa','u.s. of a.','united staes','america','alachua','u.s>']:\n",
        "        return 'usa'\n",
        "    elif country_list in ['the world tomorrow', 'galiza neghra','universe','Invalid space count','n/a','tdzimi','space','here and there',\n",
        "                     'cherokee','csa','x','we`re global!','unknown','nz','ysa','n/a - on the road','the great white north','far away...',\n",
        "                      'quit','k1c7b1','caribbean sea','st.thomasi','rutherford','\"n/a\"','the','st. helena','c',\n",
        "                      'everywhere and anywhere']:\n",
        "        return 'other'\n",
        "    elif country_list in ['jersey','la france']:\n",
        "        return ' france'\n",
        "    elif country_list in ['catalunya','lleida','catalonia','berguedà','catalunya spain','madrid','orense']:\n",
        "        return ' spain'\n",
        "    elif country_list in [' la chine éternelle !',' macau']:\n",
        "        return ' china'\n",
        "    elif country_list in ['alderney','worcester','guernsey','prince william','bermuda','cayman islands','channel islands','u.k.',\n",
        "                     'camden']:\n",
        "        return 'united kingdom'\n",
        "    elif country_list in ['collin']:\n",
        "        return 'czech republic'\n",
        "    elif country_list in ['burma']:\n",
        "        return 'myanmar'\n",
        "    elif country_list in ['united arab emirates']:\n",
        "        return 'u.a.e'\n",
        "    elif country_list in ['pender']:\n",
        "        return 'poland'\n",
        "    elif country_list in ['tobago']:\n",
        "        return 'trinidad and tobago'\n",
        "    elif country_list in ['urugua']:\n",
        "        return 'uruguay'\n",
        "    elif country_list in ['ferrara','italia','l`italia']:\n",
        "        return 'italy'\n",
        "    elif country_list in ['niger']:\n",
        "        return 'nigeria'\n",
        "    elif country_list in ['la belgique']:\n",
        "        print(1)\n",
        "        return 'belgium'\n",
        "    elif country_list in ['burlington','cananda']:\n",
        "        return 'canada'\n",
        "    return country_list\n",
        "\n"
      ],
      "metadata": {
        "id": "QsIvwSJnnt24"
      },
      "execution_count": 95,
      "outputs": []
    },
    {
      "cell_type": "code",
      "source": [
        "df['location_city'] = df['Location'].apply(lambda x: x.split(',')[0].strip())\n",
        "df['location_state'] = df['Location'].apply(lambda x: x.split(',')[1].strip())\n",
        "df['location_country'] = df['Location'].apply(lambda x: x.split(',')[2].strip())\n",
        "df = df.replace('na', np.nan)\n",
        "df = df.replace('', np.nan)\n"
      ],
      "metadata": {
        "id": "uKyTHZMJl2Oj"
      },
      "execution_count": 88,
      "outputs": []
    },
    {
      "cell_type": "code",
      "source": [
        "df.drop(columns=['Location'], inplace=True)"
      ],
      "metadata": {
        "id": "rzh6nplKqGHe"
      },
      "execution_count": 89,
      "outputs": []
    },
    {
      "cell_type": "code",
      "source": [
        "df['location_country']=df['location_country'].apply(lambda x: find_country(x))"
      ],
      "metadata": {
        "id": "tfVftGagtgur"
      },
      "execution_count": 96,
      "outputs": []
    },
    {
      "cell_type": "markdown",
      "source": [
        "## 나이 처리"
      ],
      "metadata": {
        "id": "pL1dlc91sKTA"
      }
    },
    {
      "cell_type": "code",
      "source": [
        "bins = [-1, 9, 19, 29, 39, 49, 59, 69, 79, np.inf]\n",
        "labels = ['0-9', '10-19', '20-29', '30-39', '40-49', '50-59', '60-69', '70-79', '80+']\n",
        "df['Age'] = pd.cut(df['Age'], bins=bins, labels=labels)\n",
        "\n",
        "# Age 컬럼에 대한 레이블 인코딩\n",
        "age_le = LabelEncoder()\n",
        "df['Age'] = age_le.fit_transform(df['Age'])"
      ],
      "metadata": {
        "id": "SUGE-wymfdkO"
      },
      "execution_count": 103,
      "outputs": []
    },
    {
      "cell_type": "markdown",
      "source": [
        "### 출판연도 처리"
      ],
      "metadata": {
        "id": "6ebRgPKgw5g0"
      }
    },
    {
      "cell_type": "code",
      "source": [
        "bins = [-1, 1969, 1979, 1989, 1999,  np.inf]\n",
        "labels = ['1960', '1970', '1980', '1990', '2000+']\n",
        "df['Year-Of-Publication'] = pd.cut(df['Year-Of-Publication'], bins=bins, labels=labels)\n",
        "\n",
        "# Age 컬럼에 대한 레이블 인코딩\n",
        "age_le = LabelEncoder()\n",
        "df['Year-Of-Publication'] = age_le.fit_transform(df['Year-Of-Publication'])"
      ],
      "metadata": {
        "id": "d3OT9ywuw8SN"
      },
      "execution_count": 111,
      "outputs": []
    },
    {
      "cell_type": "code",
      "source": [
        "df.info()"
      ],
      "metadata": {
        "colab": {
          "base_uri": "https://localhost:8080/"
        },
        "id": "uflDN7fMvyMc",
        "outputId": "ffd7ed16-c538-4394-bec2-7dac1274f45b"
      },
      "execution_count": 112,
      "outputs": [
        {
          "output_type": "stream",
          "name": "stdout",
          "text": [
            "<class 'pandas.core.frame.DataFrame'>\n",
            "RangeIndex: 871393 entries, 0 to 871392\n",
            "Data columns (total 12 columns):\n",
            " #   Column               Non-Null Count   Dtype \n",
            "---  ------               --------------   ----- \n",
            " 0   ID                   871393 non-null  object\n",
            " 1   User-ID              871393 non-null  object\n",
            " 2   Book-ID              871393 non-null  object\n",
            " 3   Book-Rating          871393 non-null  int8  \n",
            " 4   Age                  871393 non-null  int64 \n",
            " 5   Book-Title           871393 non-null  object\n",
            " 6   Book-Author          871386 non-null  object\n",
            " 7   Year-Of-Publication  871393 non-null  int64 \n",
            " 8   Publisher            871393 non-null  object\n",
            " 9   location_city        871078 non-null  object\n",
            " 10  location_state       852630 non-null  object\n",
            " 11  location_country     850257 non-null  object\n",
            "dtypes: int64(2), int8(1), object(9)\n",
            "memory usage: 74.0+ MB\n"
          ]
        }
      ]
    },
    {
      "cell_type": "markdown",
      "source": [
        "### Book Rating 처리"
      ],
      "metadata": {
        "id": "mbsYKvrPuNpg"
      }
    },
    {
      "cell_type": "code",
      "source": [
        "df.to_csv('fixed_book_data.csv')"
      ],
      "metadata": {
        "id": "UZEQjbM3xwHQ"
      },
      "execution_count": 114,
      "outputs": []
    }
  ]
}