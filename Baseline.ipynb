{
  "nbformat": 4,
  "nbformat_minor": 0,
  "metadata": {
    "colab": {
      "provenance": []
    },
    "kernelspec": {
      "name": "python3",
      "display_name": "Python 3"
    },
    "language_info": {
      "name": "python"
    }
  },
  "cells": [
    {
      "cell_type": "code",
      "execution_count": 1,
      "metadata": {
        "id": "UbNYmoEz_WHZ"
      },
      "outputs": [],
      "source": [
        "import pandas as pd\n",
        "import numpy as np"
      ]
    },
    {
      "cell_type": "code",
      "source": [
        "from google.colab import drive\n",
        "drive.mount('/content/drive')"
      ],
      "metadata": {
        "colab": {
          "base_uri": "https://localhost:8080/"
        },
        "id": "8uKzdevanWGd",
        "outputId": "8936a1d5-9d45-4ee0-96d0-ab8c81322ce2"
      },
      "execution_count": 2,
      "outputs": [
        {
          "output_type": "stream",
          "name": "stdout",
          "text": [
            "Mounted at /content/drive\n"
          ]
        }
      ]
    },
    {
      "cell_type": "markdown",
      "source": [
        "# Dacon Baseline"
      ],
      "metadata": {
        "id": "Xw-KR37yEKys"
      }
    },
    {
      "cell_type": "code",
      "source": [
        "!pip install surprise\n",
        "from surprise import SVD, Dataset, Reader, accuracy"
      ],
      "metadata": {
        "id": "Fuz0KgA5EJwj"
      },
      "execution_count": null,
      "outputs": []
    },
    {
      "cell_type": "code",
      "source": [
        "train = pd.read_csv('/content/drive/MyDrive/weit/Book/train.csv')\n"
      ],
      "metadata": {
        "id": "3hVGXgvD_ve-"
      },
      "execution_count": 4,
      "outputs": []
    },
    {
      "cell_type": "code",
      "source": [
        "  test = pd.read_csv('/content/drive/MyDrive/weit/Book/test.csv')"
      ],
      "metadata": {
        "id": "oD1FkJvwGD5w"
      },
      "execution_count": 5,
      "outputs": []
    },
    {
      "cell_type": "code",
      "source": [
        "train.columns"
      ],
      "metadata": {
        "colab": {
          "base_uri": "https://localhost:8080/"
        },
        "id": "55wG1TqoGktN",
        "outputId": "9c7c8e0e-97f4-409e-cc7c-18bb7942c349"
      },
      "execution_count": null,
      "outputs": [
        {
          "output_type": "execute_result",
          "data": {
            "text/plain": [
              "Index(['ID', 'User-ID', 'Book-ID', 'Book-Rating', 'Age', 'Location',\n",
              "       'Book-Title', 'Book-Author', 'Year-Of-Publication', 'Publisher'],\n",
              "      dtype='object')"
            ]
          },
          "metadata": {},
          "execution_count": 8
        }
      ]
    },
    {
      "cell_type": "code",
      "source": [
        "reader = Reader(rating_scale=(0, 10))\n",
        "trainSVD = Dataset.load_from_df(train[['User-ID', 'Book-ID', 'Book-Rating']], reader)\n",
        "trainSVD = trainSVD.build_full_trainset()"
      ],
      "metadata": {
        "id": "9MdlL-cRGUxt"
      },
      "execution_count": null,
      "outputs": []
    },
    {
      "cell_type": "code",
      "source": [
        "model = SVD()\n",
        "model.fit(trainSVD)"
      ],
      "metadata": {
        "colab": {
          "base_uri": "https://localhost:8080/"
        },
        "id": "eEa1Dm5VGf1H",
        "outputId": "dd5932fe-6017-4501-890e-49b6ffabd7e4"
      },
      "execution_count": null,
      "outputs": [
        {
          "output_type": "execute_result",
          "data": {
            "text/plain": [
              "<surprise.prediction_algorithms.matrix_factorization.SVD at 0x7835f6543df0>"
            ]
          },
          "metadata": {},
          "execution_count": 11
        }
      ]
    },
    {
      "cell_type": "code",
      "source": [
        "submit = pd.read_csv('/content/sample_submission.csv')"
      ],
      "metadata": {
        "id": "TVcUBbQRGf42"
      },
      "execution_count": null,
      "outputs": []
    },
    {
      "cell_type": "code",
      "source": [
        "submit['Book-Rating'] = test.apply(lambda row: model.predict(row['User-ID'], row['Book-ID']).est, axis=1)\n",
        "submit.to_csv('./baseline_submit.csv', index=False)"
      ],
      "metadata": {
        "id": "rx_Il_0GHOHj"
      },
      "execution_count": null,
      "outputs": []
    },
    {
      "cell_type": "markdown",
      "source": [
        "### Using Catboost Regression"
      ],
      "metadata": {
        "id": "voaRyHr-JAvN"
      }
    },
    {
      "cell_type": "code",
      "source": [
        "train.shape"
      ],
      "metadata": {
        "colab": {
          "base_uri": "https://localhost:8080/"
        },
        "id": "BGDsZYq-JXfk",
        "outputId": "061f3f38-be82-4b48-a32f-703c0cdbdf4a"
      },
      "execution_count": null,
      "outputs": [
        {
          "output_type": "execute_result",
          "data": {
            "text/plain": [
              "(871393, 10)"
            ]
          },
          "metadata": {},
          "execution_count": 18
        }
      ]
    },
    {
      "cell_type": "code",
      "source": [
        "from sklearn.model_selection import KFold\n",
        "from sklearn.linear_model import LinearRegression\n",
        "kf = KFold(n_splits = 5, random_state = 2023, shuffle = True)"
      ],
      "metadata": {
        "id": "V0CM32frJn5y"
      },
      "execution_count": 6,
      "outputs": []
    },
    {
      "cell_type": "code",
      "source": [
        "from sklearn.preprocessing import LabelEncoder\n",
        "\n",
        "user_id_encoder = LabelEncoder()\n",
        "book_id_encoder = LabelEncoder()\n",
        "\n",
        "train['User-ID'] = user_id_encoder.fit_transform(train['User-ID'])\n",
        "train['Book-ID'] = book_id_encoder.fit_transform(train['Book-ID'])"
      ],
      "metadata": {
        "id": "ns2X_CUgL1Kt"
      },
      "execution_count": 7,
      "outputs": []
    },
    {
      "cell_type": "code",
      "source": [
        "age_le = LabelEncoder()\n",
        "train['Age'] = age_le.fit_transform(train['Age'])"
      ],
      "metadata": {
        "id": "sG5IzwcMM7Mt"
      },
      "execution_count": 8,
      "outputs": []
    },
    {
      "cell_type": "code",
      "source": [
        "user_id_mapping = dict(zip(user_id_encoder.classes_, user_id_encoder.transform(user_id_encoder.classes_)))\n",
        "book_id_mapping = dict(zip(book_id_encoder.classes_, book_id_encoder.transform(book_id_encoder.classes_)))\n",
        "\n",
        "test['User-ID'] = test['User-ID'].map(lambda x: user_id_mapping.get(x, -1))\n",
        "test['Book-ID'] = test['Book-ID'].map(lambda x: book_id_mapping.get(x, -1))\n",
        "test['Age'] = test['Age'].apply(lambda x: age_le.transform([x])[0] if x in age_le.classes_ else -1)"
      ],
      "metadata": {
        "id": "vsb7IxZYHSrj"
      },
      "execution_count": 9,
      "outputs": []
    },
    {
      "cell_type": "code",
      "source": [
        "year_le = LabelEncoder()\n",
        "train['Year-Of-Publication'] = year_le.fit_transform(train['Year-Of-Publication'])\n",
        "\n",
        "test['Year-Of-Publication'] = test['Year-Of-Publication'].apply(lambda x: year_le.transform([x])[0] if x in year_le.classes_ else -1)"
      ],
      "metadata": {
        "id": "0PPzdcfup_Ne"
      },
      "execution_count": 10,
      "outputs": []
    },
    {
      "cell_type": "code",
      "source": [
        "author_encoder = LabelEncoder()\n",
        "publisher_encoder = LabelEncoder()\n",
        "\n",
        "train['Book-Author'] = author_encoder.fit_transform(train['Book-Author'])\n",
        "train['Publisher'] = publisher_encoder.fit_transform(train['Publisher'])\n",
        "\n",
        "author_mapping = dict(zip(author_encoder.classes_, author_encoder.transform(author_encoder.classes_)))\n",
        "publisher_mapping = dict(zip(publisher_encoder.classes_, publisher_encoder.transform(publisher_encoder.classes_)))\n",
        "\n",
        "test['Book-Author'] = test['Book-Author'].map(lambda x: author_mapping.get(x, -1))\n",
        "test['Publisher'] = test['Publisher'].map(lambda x: publisher_mapping.get(x, -1))"
      ],
      "metadata": {
        "id": "iRHQZT6NqV9C"
      },
      "execution_count": 11,
      "outputs": []
    },
    {
      "cell_type": "code",
      "source": [
        "location_encoder = LabelEncoder()\n",
        "train['Location'] = location_encoder.fit_transform(train['Location'])\n",
        "location_mapping = dict(zip(location_encoder.classes_, location_encoder.transform(location_encoder.classes_)))\n",
        "test['Location'] = test['Location'].map(lambda x: publisher_mapping.get(x, -1))"
      ],
      "metadata": {
        "id": "fz27t4QOrHfo"
      },
      "execution_count": 13,
      "outputs": []
    },
    {
      "cell_type": "code",
      "source": [
        "!pip install catboost\n",
        "from catboost import CatBoostRegressor\n",
        "from sklearn.metrics import mean_squared_error\n",
        "from sklearn.model_selection import train_test_split"
      ],
      "metadata": {
        "colab": {
          "base_uri": "https://localhost:8080/"
        },
        "id": "WmGh8T-juqM9",
        "outputId": "a2eb9466-4d07-45d9-d5e5-5f43d916184f"
      },
      "execution_count": 15,
      "outputs": [
        {
          "output_type": "stream",
          "name": "stdout",
          "text": [
            "Collecting catboost\n",
            "  Downloading catboost-1.2.2-cp310-cp310-manylinux2014_x86_64.whl (98.7 MB)\n",
            "\u001b[2K     \u001b[90m━━━━━━━━━━━━━━━━━━━━━━━━━━━━━━━━━━━━━━━━\u001b[0m \u001b[32m98.7/98.7 MB\u001b[0m \u001b[31m5.3 MB/s\u001b[0m eta \u001b[36m0:00:00\u001b[0m\n",
            "\u001b[?25hRequirement already satisfied: graphviz in /usr/local/lib/python3.10/dist-packages (from catboost) (0.20.1)\n",
            "Requirement already satisfied: matplotlib in /usr/local/lib/python3.10/dist-packages (from catboost) (3.7.1)\n",
            "Requirement already satisfied: numpy>=1.16.0 in /usr/local/lib/python3.10/dist-packages (from catboost) (1.23.5)\n",
            "Requirement already satisfied: pandas>=0.24 in /usr/local/lib/python3.10/dist-packages (from catboost) (1.5.3)\n",
            "Requirement already satisfied: scipy in /usr/local/lib/python3.10/dist-packages (from catboost) (1.11.4)\n",
            "Requirement already satisfied: plotly in /usr/local/lib/python3.10/dist-packages (from catboost) (5.15.0)\n",
            "Requirement already satisfied: six in /usr/local/lib/python3.10/dist-packages (from catboost) (1.16.0)\n",
            "Requirement already satisfied: python-dateutil>=2.8.1 in /usr/local/lib/python3.10/dist-packages (from pandas>=0.24->catboost) (2.8.2)\n",
            "Requirement already satisfied: pytz>=2020.1 in /usr/local/lib/python3.10/dist-packages (from pandas>=0.24->catboost) (2023.3.post1)\n",
            "Requirement already satisfied: contourpy>=1.0.1 in /usr/local/lib/python3.10/dist-packages (from matplotlib->catboost) (1.2.0)\n",
            "Requirement already satisfied: cycler>=0.10 in /usr/local/lib/python3.10/dist-packages (from matplotlib->catboost) (0.12.1)\n",
            "Requirement already satisfied: fonttools>=4.22.0 in /usr/local/lib/python3.10/dist-packages (from matplotlib->catboost) (4.47.2)\n",
            "Requirement already satisfied: kiwisolver>=1.0.1 in /usr/local/lib/python3.10/dist-packages (from matplotlib->catboost) (1.4.5)\n",
            "Requirement already satisfied: packaging>=20.0 in /usr/local/lib/python3.10/dist-packages (from matplotlib->catboost) (23.2)\n",
            "Requirement already satisfied: pillow>=6.2.0 in /usr/local/lib/python3.10/dist-packages (from matplotlib->catboost) (9.4.0)\n",
            "Requirement already satisfied: pyparsing>=2.3.1 in /usr/local/lib/python3.10/dist-packages (from matplotlib->catboost) (3.1.1)\n",
            "Requirement already satisfied: tenacity>=6.2.0 in /usr/local/lib/python3.10/dist-packages (from plotly->catboost) (8.2.3)\n",
            "Installing collected packages: catboost\n",
            "Successfully installed catboost-1.2.2\n"
          ]
        }
      ]
    },
    {
      "cell_type": "code",
      "source": [
        "X_train, X_val, y_train, y_val = train_test_split(\n",
        "    train.drop(['ID', 'Book-Rating', 'Book-Title'], axis=1),\n",
        "    train['Book-Rating'],\n",
        "    test_size=0.2,\n",
        "    random_state=42\n",
        ")"
      ],
      "metadata": {
        "id": "jq5HVQzZuDwu"
      },
      "execution_count": 16,
      "outputs": []
    },
    {
      "cell_type": "code",
      "source": [
        "features = train.drop(['ID', 'Book-Rating', 'Book-Title'], axis=1)\n",
        "target = train['Book-Rating']"
      ],
      "metadata": {
        "id": "Oo7ZfwqowCjE"
      },
      "execution_count": 17,
      "outputs": []
    },
    {
      "cell_type": "code",
      "source": [
        "X_train, X_test, y_train, y_test = train_test_split(features, target, test_size=0.2, random_state=42)"
      ],
      "metadata": {
        "id": "ofsF71I_wOtr"
      },
      "execution_count": 18,
      "outputs": []
    },
    {
      "cell_type": "code",
      "source": [
        "cat_features = ['Age', 'User-ID', 'Year-Of-Publication','Location','Book-Author','Book-ID','Publisher']"
      ],
      "metadata": {
        "id": "lOT0o1SUwRkp"
      },
      "execution_count": 19,
      "outputs": []
    },
    {
      "cell_type": "code",
      "source": [
        "model = CatBoostRegressor(iterations=10000, learning_rate=0.1, loss_function='RMSE', cat_features=cat_features)\n",
        "model.fit(X_train, y_train, eval_set=(X_test, y_test), early_stopping_rounds=100, verbose=100)\n"
      ],
      "metadata": {
        "colab": {
          "base_uri": "https://localhost:8080/"
        },
        "id": "DRMSVrwwwYGK",
        "outputId": "a286d8e5-b729-4c96-e67a-f6cc6e2bb322"
      },
      "execution_count": 20,
      "outputs": [
        {
          "output_type": "stream",
          "name": "stdout",
          "text": [
            "0:\tlearn: 3.7728005\ttest: 3.7689051\tbest: 3.7689051 (0)\ttotal: 2.82s\tremaining: 7h 49m 37s\n",
            "100:\tlearn: 3.3460765\ttest: 3.2875016\tbest: 3.2875016 (100)\ttotal: 1m 14s\tremaining: 2h 1m 46s\n",
            "200:\tlearn: 3.3369985\ttest: 3.2797585\tbest: 3.2797585 (200)\ttotal: 2m 49s\tremaining: 2h 17m 32s\n",
            "300:\tlearn: 3.3323621\ttest: 3.2767701\tbest: 3.2767701 (300)\ttotal: 4m 42s\tremaining: 2h 31m 50s\n",
            "400:\tlearn: 3.3289977\ttest: 3.2752457\tbest: 3.2752457 (400)\ttotal: 6m 22s\tremaining: 2h 32m 44s\n",
            "500:\tlearn: 3.3266124\ttest: 3.2744129\tbest: 3.2744129 (500)\ttotal: 8m\tremaining: 2h 31m 51s\n",
            "600:\tlearn: 3.3241929\ttest: 3.2737621\tbest: 3.2737584 (596)\ttotal: 9m 38s\tremaining: 2h 30m 39s\n",
            "700:\tlearn: 3.3222844\ttest: 3.2733056\tbest: 3.2733056 (700)\ttotal: 11m 12s\tremaining: 2h 28m 41s\n",
            "800:\tlearn: 3.3203516\ttest: 3.2729191\tbest: 3.2729191 (800)\ttotal: 12m 51s\tremaining: 2h 27m 42s\n",
            "900:\tlearn: 3.3184748\ttest: 3.2725849\tbest: 3.2725849 (900)\ttotal: 14m 35s\tremaining: 2h 27m 18s\n",
            "1000:\tlearn: 3.3166068\ttest: 3.2722775\tbest: 3.2722709 (992)\ttotal: 16m 20s\tremaining: 2h 26m 55s\n",
            "1100:\tlearn: 3.3151234\ttest: 3.2720813\tbest: 3.2720813 (1100)\ttotal: 17m 45s\tremaining: 2h 23m 32s\n",
            "1200:\tlearn: 3.3134127\ttest: 3.2719630\tbest: 3.2719497 (1191)\ttotal: 19m 15s\tremaining: 2h 21m 3s\n",
            "1300:\tlearn: 3.3118430\ttest: 3.2716897\tbest: 3.2716897 (1300)\ttotal: 20m 44s\tremaining: 2h 18m 43s\n",
            "1400:\tlearn: 3.3103512\ttest: 3.2714965\tbest: 3.2714822 (1388)\ttotal: 22m 13s\tremaining: 2h 16m 24s\n",
            "1500:\tlearn: 3.3089003\ttest: 3.2714286\tbest: 3.2714151 (1464)\ttotal: 23m 43s\tremaining: 2h 14m 19s\n",
            "1600:\tlearn: 3.3073532\ttest: 3.2712709\tbest: 3.2712607 (1596)\ttotal: 25m 20s\tremaining: 2h 12m 54s\n",
            "1700:\tlearn: 3.3058084\ttest: 3.2711364\tbest: 3.2711364 (1700)\ttotal: 26m 50s\tremaining: 2h 10m 55s\n",
            "1800:\tlearn: 3.3043865\ttest: 3.2710793\tbest: 3.2710736 (1776)\ttotal: 28m 19s\tremaining: 2h 8m 58s\n",
            "1900:\tlearn: 3.3029626\ttest: 3.2710554\tbest: 3.2710171 (1880)\ttotal: 29m 54s\tremaining: 2h 7m 25s\n",
            "2000:\tlearn: 3.3016461\ttest: 3.2711068\tbest: 3.2709991 (1940)\ttotal: 31m 34s\tremaining: 2h 6m 12s\n",
            "Stopped by overfitting detector  (100 iterations wait)\n",
            "\n",
            "bestTest = 3.270999065\n",
            "bestIteration = 1940\n",
            "\n",
            "Shrink model to first 1941 iterations.\n"
          ]
        },
        {
          "output_type": "execute_result",
          "data": {
            "text/plain": [
              "<catboost.core.CatBoostRegressor at 0x7f8ef32dabc0>"
            ]
          },
          "metadata": {},
          "execution_count": 20
        }
      ]
    },
    {
      "cell_type": "code",
      "source": [
        "pred = model.predict(X_test)\n",
        "mse = mean_squared_error(y_test, pred)\n",
        "rmse = np.sqrt(mse)\n",
        "print(f'RMSE: {rmse:.4f}')\n",
        "\n",
        "feature_importances = model.get_feature_importance()\n",
        "feature_names = X_train.columns\n",
        "for score, name in sorted(zip(feature_importances, feature_names), reverse=True):\n",
        "    print(f\"{name}: {score:.2f}\")"
      ],
      "metadata": {
        "colab": {
          "base_uri": "https://localhost:8080/"
        },
        "id": "uzraPtqvwas3",
        "outputId": "834d9e6c-80a3-453a-9684-eecd52e1baf2"
      },
      "execution_count": 21,
      "outputs": [
        {
          "output_type": "stream",
          "name": "stdout",
          "text": [
            "RMSE: 3.2710\n",
            "User-ID: 50.42\n",
            "Book-Author: 14.58\n",
            "Publisher: 11.47\n",
            "Location: 6.95\n",
            "Year-Of-Publication: 6.71\n",
            "Age: 6.36\n",
            "Book-ID: 3.52\n"
          ]
        }
      ]
    },
    {
      "cell_type": "code",
      "source": [
        "X_test_final = test.drop(['ID', 'Book-Title'], axis=1)\n",
        "\n",
        "# 테스트 데이터에 대한 예측\n",
        "y_test_pred_final = model.predict(X_test_final)\n",
        "\n",
        "# 예측 결과의 길이 확인\n",
        "print(\"Length of y_test_pred_final: \", len(y_test_pred_final))"
      ],
      "metadata": {
        "colab": {
          "base_uri": "https://localhost:8080/"
        },
        "id": "omj67MLOBG11",
        "outputId": "a4a0f4f4-b2cb-4cbc-ef55-82df7fca256f"
      },
      "execution_count": 22,
      "outputs": [
        {
          "output_type": "stream",
          "name": "stdout",
          "text": [
            "Length of y_test_pred_final:  159621\n"
          ]
        }
      ]
    },
    {
      "cell_type": "code",
      "source": [
        "# 제출 파일 생성\n",
        "submit = pd.read_csv(\"/content/drive/MyDrive/weit/Book/sample_submission.csv\")\n",
        "submit[\"Book-Rating\"] = y_test_pred_final\n",
        "\n",
        "# 제출 파일 저장\n",
        "submit.to_csv(\"catboost5_submission.csv\", index=False)"
      ],
      "metadata": {
        "id": "grk7PQObBMdq"
      },
      "execution_count": 23,
      "outputs": []
    }
  ]
}